{
 "cells": [
  {
   "cell_type": "code",
   "execution_count": 1,
   "metadata": {},
   "outputs": [
    {
     "data": {
      "text/plain": [
       "'2.17.0'"
      ]
     },
     "execution_count": 1,
     "metadata": {},
     "output_type": "execute_result"
    }
   ],
   "source": [
    "# 03_logistic_regression_diabetes\n",
    "# 당뇨병 진단 2진 분류 모델\n",
    "\n",
    "import tensorflow as tf\n",
    "import numpy as np\n",
    "tf.random.set_seed(5)\n",
    "tf.__version__"
   ]
  },
  {
   "cell_type": "code",
   "execution_count": 2,
   "metadata": {},
   "outputs": [
    {
     "data": {
      "text/plain": [
       "(228, 1)"
      ]
     },
     "execution_count": 2,
     "metadata": {},
     "output_type": "execute_result"
    }
   ],
   "source": [
    "# 데이터 불러오기\n",
    "xy = np.loadtxt('data-03-diabetes.csv',delimiter=',',dtype=np.float32)\n",
    "xy.shape   # (759,9)\n",
    "\n",
    "# 학습 데이터 분리 : 70% , 531개\n",
    "x_train = xy[:531,:-1]  # X\n",
    "y_train = xy[:531,[-1]] # Y\n",
    "x_train.shape   # (531, 8)\n",
    "y_train.shape   # (531, 1)\n",
    "\n",
    "# 검증 데이터 분리 : 30% , 228개\n",
    "x_test = xy[531:,:-1]\n",
    "y_test = xy[531:,[-1]]\n",
    "x_test.shape    # (228, 8)\n",
    "y_test.shape    # (228, 1)"
   ]
  },
  {
   "cell_type": "code",
   "execution_count": 3,
   "metadata": {},
   "outputs": [],
   "source": [
    "# 변수 초기화 : weight, bias\n",
    "# (m,n) * (n,l) = (m,l)   : 행렬의 내적 곱셈 공식\n",
    "# (531,8) * (8,1) = (531,1)\n",
    "W = tf.Variable(tf.random.normal([8,1]), name='weight')\n",
    "b = tf.Variable(tf.random.normal([1]), name='bias')"
   ]
  },
  {
   "cell_type": "code",
   "execution_count": 4,
   "metadata": {},
   "outputs": [],
   "source": [
    "# 예측 함수(hypothesis) : H(X) = sigmoid(W*X + b)\n",
    "# tf.sigmoid() : tf.div(1.,1. + tf.exp(-tf.matmul(X,W) + b))\n",
    "def hypothesis(X):\n",
    "    return tf.sigmoid(tf.matmul(X,W) + b)  # 0과 1사이의 값이 출력"
   ]
  },
  {
   "cell_type": "code",
   "execution_count": 5,
   "metadata": {},
   "outputs": [],
   "source": [
    "# 비용 함수 : logloss , 2진 분류 모델\n",
    "def cost_func():\n",
    "    cost = -tf.reduce_mean(y_train*tf.math.log(hypothesis(x_train)) +\n",
    "                         (1-y_train)*tf.math.log(1-hypothesis(x_train)))\n",
    "    return cost"
   ]
  },
  {
   "cell_type": "code",
   "execution_count": 6,
   "metadata": {},
   "outputs": [
    {
     "name": "stdout",
     "output_type": "stream",
     "text": [
      "WARNING:tensorflow:From C:\\Users\\storm\\AppData\\Local\\Temp\\ipykernel_10936\\4092513398.py:4: The name tf.train.AdamOptimizer is deprecated. Please use tf.compat.v1.train.AdamOptimizer instead.\n",
      "\n"
     ]
    }
   ],
   "source": [
    "# 경사 하강법\n",
    "# learning_rate(학습율)을 0.01 로 설정하여 optimizer객체를 생성\n",
    "# optimizer = tf.keras.optimizers.Adam(learning_rate=0.01)\n",
    "optimizer = tf.compat.v1.train.AdamOptimizer(learning_rate=0.01)"
   ]
  },
  {
   "cell_type": "code",
   "execution_count": 7,
   "metadata": {},
   "outputs": [
    {
     "name": "stdout",
     "output_type": "stream",
     "text": [
      "***** Start Learning!!\n",
      "0000 cost:[ 0.8006095 ]  W: [[-0.19030663]\n",
      " [-0.9402866 ]\n",
      " [-0.02964057]\n",
      " [-0.7525406 ]\n",
      " [ 1.3131523 ]\n",
      " [-0.62854797]\n",
      " [ 0.8440664 ]\n",
      " [-0.09899952]]  b: [0.23652862]\n",
      "1000 cost:[ 0.48674083 ]  W: [[-0.75487643]\n",
      " [-3.3620782 ]\n",
      " [ 0.2107457 ]\n",
      " [-0.5814681 ]\n",
      " [-0.1694194 ]\n",
      " [-2.5226417 ]\n",
      " [-0.76776016]\n",
      " [ 0.12745772]]  b: [0.4801392]\n",
      "2000 cost:[ 0.4866587 ]  W: [[-0.7645522 ]\n",
      " [-3.3315148 ]\n",
      " [ 0.24341257]\n",
      " [-0.54766756]\n",
      " [-0.21579522]\n",
      " [-2.5522876 ]\n",
      " [-0.8637517 ]\n",
      " [ 0.11404324]]  b: [0.38385916]\n",
      "3000 cost:[ 0.4866587 ]  W: [[-0.76468706]\n",
      " [-3.3311477 ]\n",
      " [ 0.24389826]\n",
      " [-0.5480666 ]\n",
      " [-0.21599711]\n",
      " [-2.5523138 ]\n",
      " [-0.8651016 ]\n",
      " [ 0.11382001]]  b: [0.38240698]\n",
      "4000 cost:[ 0.48665863 ]  W: [[-0.7646871 ]\n",
      " [-3.331147  ]\n",
      " [ 0.24389747]\n",
      " [-0.5480666 ]\n",
      " [-0.21599752]\n",
      " [-2.5523148 ]\n",
      " [-0.8651022 ]\n",
      " [ 0.11381993]]  b: [0.38240632]\n",
      "5000 cost:[ 0.48665863 ]  W: [[-0.764688  ]\n",
      " [-3.3311455 ]\n",
      " [ 0.24390048]\n",
      " [-0.54806757]\n",
      " [-0.2159971 ]\n",
      " [-2.552316  ]\n",
      " [-0.86510265]\n",
      " [ 0.11381963]]  b: [0.3824045]\n",
      "6000 cost:[ 0.4866587 ]  W: [[-0.764688  ]\n",
      " [-3.3311458 ]\n",
      " [ 0.24390064]\n",
      " [-0.54806757]\n",
      " [-0.21599726]\n",
      " [-2.5523167 ]\n",
      " [-0.86510235]\n",
      " [ 0.11381944]]  b: [0.38240445]\n",
      "7000 cost:[ 0.48665863 ]  W: [[-0.764688  ]\n",
      " [-3.3311458 ]\n",
      " [ 0.24390022]\n",
      " [-0.5480671 ]\n",
      " [-0.21599738]\n",
      " [-2.552317  ]\n",
      " [-0.8651022 ]\n",
      " [ 0.11381924]]  b: [0.38240469]\n",
      "8000 cost:[ 0.48665863 ]  W: [[-0.7646881 ]\n",
      " [-3.331146  ]\n",
      " [ 0.24390058]\n",
      " [-0.5480676 ]\n",
      " [-0.21599673]\n",
      " [-2.5523167 ]\n",
      " [-0.8651023 ]\n",
      " [ 0.1138194 ]]  b: [0.3824048]\n",
      "9000 cost:[ 0.48665863 ]  W: [[-0.7646884 ]\n",
      " [-3.331146  ]\n",
      " [ 0.24390067]\n",
      " [-0.54806656]\n",
      " [-0.21599774]\n",
      " [-2.552317  ]\n",
      " [-0.86510324]\n",
      " [ 0.11381974]]  b: [0.3824042]\n",
      "10000 cost:[ 0.48665863 ]  W: [[-0.7646879 ]\n",
      " [-3.3311455 ]\n",
      " [ 0.24389939]\n",
      " [-0.5480663 ]\n",
      " [-0.21599822]\n",
      " [-2.5523164 ]\n",
      " [-0.8651044 ]\n",
      " [ 0.11382016]]  b: [0.38240406]\n",
      "***** Learning Finished!!\n"
     ]
    }
   ],
   "source": [
    "# 학습 시작\n",
    "print('***** Start Learning!!')\n",
    "for step in range(10001):\n",
    "    # cost를 minimize 한다\n",
    "    optimizer.minimize(cost_func,var_list=[W,b])\n",
    "    \n",
    "    if step % 1000 == 0:\n",
    "        print('%04d'%step,'cost:[',cost_func().numpy(),']',\n",
    "             ' W:',W.numpy(),' b:',b.numpy())\n",
    "print('***** Learning Finished!!') "
   ]
  },
  {
   "cell_type": "code",
   "execution_count": 8,
   "metadata": {},
   "outputs": [
    {
     "name": "stdout",
     "output_type": "stream",
     "text": [
      "Weight: [[-0.7646879 ]\n",
      " [-3.3311455 ]\n",
      " [ 0.24389939]\n",
      " [-0.5480663 ]\n",
      " [-0.21599822]\n",
      " [-2.5523164 ]\n",
      " [-0.8651044 ]\n",
      " [ 0.11382016]]\n",
      "Bias: [0.38240406]\n"
     ]
    }
   ],
   "source": [
    "# 회귀 계수, weight과 bias 출력\n",
    "print('Weight:',W.numpy())\n",
    "print('Bias:',b.numpy())"
   ]
  },
  {
   "cell_type": "code",
   "execution_count": 9,
   "metadata": {},
   "outputs": [
    {
     "name": "stdout",
     "output_type": "stream",
     "text": [
      "Accuracy: 0.78070176\n"
     ]
    }
   ],
   "source": [
    "# 정확도 측정 : accuracy computation\n",
    "def predict(X):\n",
    "    return tf.cast(hypothesis(X) > 0.5,dtype=tf.float32)\n",
    "\n",
    "# 검증 데이터를 사용하여 예측 (70%:30%)\n",
    "preds = predict(x_test)\n",
    "accuracy = tf.reduce_mean(tf.cast(tf.equal(preds,y_test),dtype=tf.float32))\n",
    "\n",
    "print('Accuracy:',accuracy.numpy()) # Accuracy: 0.78070176\n",
    "# print('Hypothesis:\\n',hypothesis(x_test).numpy())\n",
    "# print('Predict:\\n',preds.numpy())"
   ]
  },
  {
   "cell_type": "code",
   "execution_count": null,
   "metadata": {},
   "outputs": [],
   "source": []
  }
 ],
 "metadata": {
  "kernelspec": {
   "display_name": "Python 3 (ipykernel)",
   "language": "python",
   "name": "python3"
  },
  "language_info": {
   "codemirror_mode": {
    "name": "ipython",
    "version": 3
   },
   "file_extension": ".py",
   "mimetype": "text/x-python",
   "name": "python",
   "nbconvert_exporter": "python",
   "pygments_lexer": "ipython3",
   "version": "3.10.12"
  }
 },
 "nbformat": 4,
 "nbformat_minor": 4
}
