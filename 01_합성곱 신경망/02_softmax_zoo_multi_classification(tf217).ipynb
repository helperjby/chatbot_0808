{
 "cells": [
  {
   "cell_type": "code",
   "execution_count": 1,
   "metadata": {},
   "outputs": [
    {
     "data": {
      "text/plain": [
       "'2.17.0'"
      ]
     },
     "execution_count": 1,
     "metadata": {},
     "output_type": "execute_result"
    }
   ],
   "source": [
    "# softmax_zoo_multi_classification\n",
    "\n",
    "# multi-classification\n",
    "# multi-nomial classification (다중 분류) : Y값의 범주가 3개 이상인 분류\n",
    "# 활성화 함수(Activation function) 으로 softmax함수 가 사용된다\n",
    "\n",
    "import tensorflow as tf\n",
    "import numpy as np\n",
    "tf.random.set_seed(5)\n",
    "tf.__version__"
   ]
  },
  {
   "cell_type": "code",
   "execution_count": 2,
   "metadata": {},
   "outputs": [
    {
     "name": "stdout",
     "output_type": "stream",
     "text": [
      "(101, 17)\n",
      "(70, 16)\n",
      "(70, 1)\n",
      "(31, 16)\n",
      "(31, 1)\n"
     ]
    }
   ],
   "source": [
    "# 데이터 가져오기\n",
    "xy = np.loadtxt('data-04-zoo.csv',delimiter=',',dtype=np.float32)\n",
    "print(xy.shape) # (101, 17)\n",
    "\n",
    "# 학습 데이터 : 70%, 70개\n",
    "x_train = xy[:70,:-1]\n",
    "y_train = xy[:70,[-1]]\n",
    "y_train = y_train.astype('int32') # one-hot 인코딩을 위해 반드시 int형으로 사용\n",
    "print(x_train.shape)   # (70, 16)\n",
    "print(y_train.shape)   # (70, 1)\n",
    "\n",
    "# 검증 데이터 : 30%, 31개\n",
    "x_test = xy[70:,:-1]\n",
    "y_test = xy[70:,[-1]]\n",
    "y_test = y_test.astype('int32') # one-hot 인코딩을 위해 반드시 int형으로 사용\n",
    "print(x_test.shape)   # (31, 16)\n",
    "print(y_test.shape)   # (31, 1)"
   ]
  },
  {
   "cell_type": "code",
   "execution_count": 3,
   "metadata": {},
   "outputs": [
    {
     "name": "stdout",
     "output_type": "stream",
     "text": [
      "(70, 1, 7)\n",
      "(70, 7)\n"
     ]
    }
   ],
   "source": [
    "# one-hot 인코딩\n",
    "nb_classes = 7  # 분류(class) 갯수(0,1,2,3,4,5,6)\n",
    "\n",
    "Y_one_hot = tf.one_hot(y_train,nb_classes)   # [None,1,7]\n",
    "print(Y_one_hot.shape)                       # [70,1,7]  , Rank=3 (3차원)\n",
    "Y_one_hot = tf.reshape(Y_one_hot,[-1,nb_classes])\n",
    "print(Y_one_hot.shape)                       # [70,7]  , Rank=2 (2차원)"
   ]
  },
  {
   "cell_type": "code",
   "execution_count": 4,
   "metadata": {},
   "outputs": [],
   "source": [
    "# 변수 초기화 : weight, bias\n",
    "# (70,16) * (16,7) = (70,7)\n",
    "W = tf.Variable(tf.random.normal([16,nb_classes]), name='weight')\n",
    "b = tf.Variable(tf.random.normal([nb_classes]), name='bias')"
   ]
  },
  {
   "cell_type": "code",
   "execution_count": 5,
   "metadata": {},
   "outputs": [],
   "source": [
    "# 예측 함수(hypothesis) : H(X) = softmax(W*X + b)\n",
    "def logits(X):\n",
    "    return tf.matmul(X,W) + b\n",
    "\n",
    "def hypothesis(X):\n",
    "    return tf.nn.softmax(logits(X)) "
   ]
  },
  {
   "cell_type": "code",
   "execution_count": 6,
   "metadata": {},
   "outputs": [],
   "source": [
    "# 비용함수 구현 방법 2 : tf.nn.softmax_cross_entropy_with_logits() 함수 사용\n",
    "def cost_func():\n",
    "    cost_i = tf.nn.softmax_cross_entropy_with_logits(logits = logits(x_train),\n",
    "                                             labels = Y_one_hot)\n",
    "    cost =  tf.reduce_mean(cost_i)\n",
    "    return cost"
   ]
  },
  {
   "cell_type": "code",
   "execution_count": 7,
   "metadata": {},
   "outputs": [
    {
     "name": "stdout",
     "output_type": "stream",
     "text": [
      "WARNING:tensorflow:From C:\\Users\\storm\\AppData\\Local\\Temp\\ipykernel_14840\\1294947086.py:4: The name tf.train.AdamOptimizer is deprecated. Please use tf.compat.v1.train.AdamOptimizer instead.\n",
      "\n"
     ]
    }
   ],
   "source": [
    "# 경사 하강법\n",
    "# learning_rate(학습율)을 0.01 로 설정하여 optimizer객체를 생성\n",
    "# optimizer = tf.keras.optimizers.Adam(lr=0.01)\n",
    "optimizer = tf.compat.v1.train.AdamOptimizer(learning_rate=0.01)"
   ]
  },
  {
   "cell_type": "code",
   "execution_count": 8,
   "metadata": {},
   "outputs": [
    {
     "name": "stdout",
     "output_type": "stream",
     "text": [
      "***** Start Learning!!\n",
      "0000 cost:[ 4.377194 ]\n",
      "1000 cost:[ 0.003679872 ]\n",
      "2000 cost:[ 0.0011352135 ]\n",
      "3000 cost:[ 0.00051771617 ]\n",
      "4000 cost:[ 0.00027261928 ]\n",
      "5000 cost:[ 0.00015366668 ]\n",
      "***** Learning Finished!!\n"
     ]
    }
   ],
   "source": [
    "# 학습 시작\n",
    "print('***** Start Learning!!')\n",
    "for step in range(5001):\n",
    "    # cost를 minimize 한다\n",
    "    optimizer.minimize(cost_func,var_list=[W,b])\n",
    "    \n",
    "    if step % 1000 == 0:\n",
    "        print('%04d'%step,'cost:[',cost_func().numpy(),']')\n",
    "             \n",
    "print('***** Learning Finished!!')"
   ]
  },
  {
   "cell_type": "code",
   "execution_count": 9,
   "metadata": {},
   "outputs": [],
   "source": [
    "# 회귀 계수, weight과 bias 출력\n",
    "# print('Weight:',W.numpy())\n",
    "# print('Bias:',b.numpy())"
   ]
  },
  {
   "cell_type": "code",
   "execution_count": 10,
   "metadata": {},
   "outputs": [
    {
     "name": "stdout",
     "output_type": "stream",
     "text": [
      "(31, 1, 7)\n",
      "(31, 7)\n",
      "Accuracy: 0.8064516\n"
     ]
    }
   ],
   "source": [
    "# 정확도 측정 : accuracy computation\n",
    "\n",
    "# y_test 값의 one-hot 인코딩\n",
    "Y_one_hot = tf.one_hot(y_test,nb_classes)   # [None,1,7]\n",
    "print(Y_one_hot.shape)                       # [31,1,7]  , Rank=3 (3차원)\n",
    "Y_one_hot = tf.reshape(Y_one_hot,[-1,nb_classes])\n",
    "print(Y_one_hot.shape)                       # [31,7]  , Rank=2 (2차원)\n",
    "\n",
    "\n",
    "# tf.argmax() : 값이 가장 큰 요소의 인덱스 값을 반환\n",
    "def predict(X):\n",
    "    return tf.argmax(hypothesis(X),axis=1)\n",
    "\n",
    "correct_predict = tf.equal(predict(x_test),tf.argmax(Y_one_hot,1))\n",
    "accuracy = tf.reduce_mean(tf.cast(correct_predict, dtype = tf.float32))\n",
    "print(\"Accuracy:\",accuracy.numpy()) # Accuracy: 0.8064516"
   ]
  },
  {
   "cell_type": "code",
   "execution_count": 11,
   "metadata": {},
   "outputs": [
    {
     "name": "stdout",
     "output_type": "stream",
     "text": [
      "***** Predict\n",
      "[True] Prediction: 0 / Real Y: 0\n",
      "[True] Prediction: 1 / Real Y: 1\n",
      "[False] Prediction: 5 / Real Y: 6\n",
      "[True] Prediction: 3 / Real Y: 3\n",
      "[True] Prediction: 0 / Real Y: 0\n",
      "[True] Prediction: 0 / Real Y: 0\n",
      "[False] Prediction: 4 / Real Y: 2\n",
      "[True] Prediction: 6 / Real Y: 6\n",
      "[True] Prediction: 1 / Real Y: 1\n",
      "[True] Prediction: 1 / Real Y: 1\n",
      "[True] Prediction: 2 / Real Y: 2\n",
      "[False] Prediction: 2 / Real Y: 6\n",
      "[True] Prediction: 3 / Real Y: 3\n",
      "[True] Prediction: 1 / Real Y: 1\n",
      "[True] Prediction: 0 / Real Y: 0\n",
      "[True] Prediction: 6 / Real Y: 6\n",
      "[True] Prediction: 3 / Real Y: 3\n",
      "[True] Prediction: 1 / Real Y: 1\n",
      "[True] Prediction: 5 / Real Y: 5\n",
      "[True] Prediction: 4 / Real Y: 4\n",
      "[False] Prediction: 0 / Real Y: 2\n",
      "[False] Prediction: 4 / Real Y: 2\n",
      "[True] Prediction: 3 / Real Y: 3\n",
      "[True] Prediction: 0 / Real Y: 0\n",
      "[True] Prediction: 0 / Real Y: 0\n",
      "[True] Prediction: 1 / Real Y: 1\n",
      "[True] Prediction: 0 / Real Y: 0\n",
      "[True] Prediction: 5 / Real Y: 5\n",
      "[True] Prediction: 0 / Real Y: 0\n",
      "[False] Prediction: 2 / Real Y: 6\n",
      "[True] Prediction: 1 / Real Y: 1\n"
     ]
    }
   ],
   "source": [
    "#예측\n",
    "print('***** Predict')\n",
    "pred = predict(x_test).numpy()\n",
    "for p,y in zip(pred, y_test.flatten()):\n",
    "    print(\"[{}] Prediction: {} / Real Y: {}\".format(p == int(y), p, int(y)))"
   ]
  },
  {
   "cell_type": "code",
   "execution_count": null,
   "metadata": {},
   "outputs": [],
   "source": []
  }
 ],
 "metadata": {
  "kernelspec": {
   "display_name": "Python 3 (ipykernel)",
   "language": "python",
   "name": "python3"
  },
  "language_info": {
   "codemirror_mode": {
    "name": "ipython",
    "version": 3
   },
   "file_extension": ".py",
   "mimetype": "text/x-python",
   "name": "python",
   "nbconvert_exporter": "python",
   "pygments_lexer": "ipython3",
   "version": "3.10.12"
  }
 },
 "nbformat": 4,
 "nbformat_minor": 4
}
